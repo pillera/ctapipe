{
 "cells": [
  {
   "cell_type": "code",
   "execution_count": 1,
   "metadata": {},
   "outputs": [],
   "source": [
    "import numpy as np\n",
    "import matplotlib.pyplot as plt\n",
    "from ctapipe.instrument import CameraGeometry\n",
    "from ctapipe.visualization import CameraDisplay\n",
    "from ctapipe.io import event_source\n",
    "from ctapipe.image.charge_extractors import GlobalPeakIntegrator, FullIntegrator\n",
    "from ctapipe.calib.camera.r1 import CameraR1CalibratorFactory\n",
    "from copy import deepcopy"
   ]
  },
  {
   "cell_type": "code",
   "execution_count": null,
   "metadata": {},
   "outputs": [],
   "source": [
    "filename = \"/Users/robertapillera/Downloads/muon_lst.simtel.gz\"\n",
    "thr = 30\n",
    "with event_source(filename, max_events=244) as source:\n",
    "    for event in source:               \n",
    "        for telid in event.r0.tels_with_data:\n",
    "            calibrator = CameraR1CalibratorFactory.produce(eventsource=source)\n",
    "            event_copy = deepcopy(event)\n",
    "            calibrator.calibrate(event_copy)\n",
    "            geom = event.inst.subarray.tel[telid].camera\n",
    "            integrator = FullIntegrator()\n",
    "            r1 = event_copy.r1.tel[telid].waveform\n",
    "            charge, peakpos, window = integrator.extract_charge(r1)\n",
    "            image = np.array(charge>thr,dtype=int) #select pixels above threshold\n",
    "            X.append(image)\n",
    "                    "
   ]
  }
 ],
 "metadata": {
  "kernelspec": {
   "display_name": "Python 3",
   "language": "python",
   "name": "python3"
  },
  "language_info": {
   "codemirror_mode": {
    "name": "ipython",
    "version": 3
   },
   "file_extension": ".py",
   "mimetype": "text/x-python",
   "name": "python",
   "nbconvert_exporter": "python",
   "pygments_lexer": "ipython3",
   "version": "3.6.7"
  }
 },
 "nbformat": 4,
 "nbformat_minor": 2
}
